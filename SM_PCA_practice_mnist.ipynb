{
  "nbformat": 4,
  "nbformat_minor": 0,
  "metadata": {
    "colab": {
      "name": "SM_PCA_practice_mnist.ipynb",
      "provenance": [],
      "authorship_tag": "ABX9TyMf974OeQc1M97ONhfwK5dv",
      "include_colab_link": true
    },
    "kernelspec": {
      "name": "python3",
      "display_name": "Python 3"
    }
  },
  "cells": [
    {
      "cell_type": "markdown",
      "metadata": {
        "id": "view-in-github",
        "colab_type": "text"
      },
      "source": [
        "<a href=\"https://colab.research.google.com/github/Jash-Bhatia/SM_2/blob/master/SM_PCA_practice_mnist.ipynb\" target=\"_parent\"><img src=\"https://colab.research.google.com/assets/colab-badge.svg\" alt=\"Open In Colab\"/></a>"
      ]
    },
    {
      "cell_type": "code",
      "metadata": {
        "id": "ypy3JKuQwVAl",
        "colab_type": "code",
        "colab": {}
      },
      "source": [
        "## When using this dataset, make required changes in code according to its shape\n",
        "\n",
        "##from sklearn.datasets import load_digits\n",
        "##digits = load_digits()\n",
        "##print(digits.data.shape)\n",
        "\n",
        "##plt.gray() \n",
        "##plt.matshow(digits.images[2]) \n",
        "##plt.show() "
      ],
      "execution_count": 1,
      "outputs": []
    },
    {
      "cell_type": "code",
      "metadata": {
        "id": "yMSKg-Al62tu",
        "colab_type": "code",
        "colab": {
          "base_uri": "https://localhost:8080/",
          "height": 68
        },
        "outputId": "b15633c3-070f-43dd-9bc6-424091b16a2b"
      },
      "source": [
        "!unzip /content/mnist_train.csv.zip\n",
        "!unzip /content/mnist_test.csv.zip"
      ],
      "execution_count": 2,
      "outputs": [
        {
          "output_type": "stream",
          "text": [
            "Archive:  /content/mnist_train.csv.zip\n",
            "replace mnist_train.csv? [y]es, [n]o, [A]ll, [N]one, [r]ename: Archive:  /content/mnist_test.csv.zip\n",
            "replace mnist_test.csv? [y]es, [n]o, [A]ll, [N]one, [r]ename: "
          ],
          "name": "stdout"
        }
      ]
    },
    {
      "cell_type": "code",
      "metadata": {
        "id": "q6j5WBhr9cAd",
        "colab_type": "code",
        "colab": {}
      },
      "source": [
        "import pandas as pd\n",
        "import numpy as np\n",
        "import matplotlib.pyplot as plt"
      ],
      "execution_count": 4,
      "outputs": []
    },
    {
      "cell_type": "code",
      "metadata": {
        "id": "fcO0MQL_9OIs",
        "colab_type": "code",
        "colab": {}
      },
      "source": [
        "train = pd.read_csv(\"mnist_train.csv\")\n",
        "test = pd.read_csv(\"mnist_test.csv\")"
      ],
      "execution_count": 5,
      "outputs": []
    },
    {
      "cell_type": "code",
      "metadata": {
        "id": "bbhdsVaS92sI",
        "colab_type": "code",
        "colab": {
          "base_uri": "https://localhost:8080/",
          "height": 34
        },
        "outputId": "27eab62c-8d24-44f2-b129-8fc282ef9316"
      },
      "source": [
        "X_train = train.iloc[:,1:785]\n",
        "X_train.shape"
      ],
      "execution_count": 6,
      "outputs": [
        {
          "output_type": "execute_result",
          "data": {
            "text/plain": [
              "(60000, 784)"
            ]
          },
          "metadata": {
            "tags": []
          },
          "execution_count": 6
        }
      ]
    },
    {
      "cell_type": "code",
      "metadata": {
        "id": "pbNJgQRE92ov",
        "colab_type": "code",
        "colab": {}
      },
      "source": [
        "y_train = train.iloc[:,0]"
      ],
      "execution_count": 7,
      "outputs": []
    },
    {
      "cell_type": "code",
      "metadata": {
        "id": "nVyXpCzD92l_",
        "colab_type": "code",
        "colab": {}
      },
      "source": [
        "X_test = test.iloc[:,1:785]"
      ],
      "execution_count": 8,
      "outputs": []
    },
    {
      "cell_type": "code",
      "metadata": {
        "id": "79i4CxM-92i_",
        "colab_type": "code",
        "colab": {}
      },
      "source": [
        "y_test = test.iloc[:,0]"
      ],
      "execution_count": 9,
      "outputs": []
    },
    {
      "cell_type": "code",
      "metadata": {
        "id": "GytAjSh9QPEf",
        "colab_type": "code",
        "colab": {}
      },
      "source": [
        "img = X_train.to_numpy()"
      ],
      "execution_count": 10,
      "outputs": []
    },
    {
      "cell_type": "code",
      "metadata": {
        "id": "eTErJS_KQPaP",
        "colab_type": "code",
        "colab": {
          "base_uri": "https://localhost:8080/",
          "height": 282
        },
        "outputId": "9e95afb5-f491-47c3-92d0-b01258e75bce"
      },
      "source": [
        "plt.imshow(img[9998,].reshape(28,28))"
      ],
      "execution_count": 11,
      "outputs": [
        {
          "output_type": "execute_result",
          "data": {
            "text/plain": [
              "<matplotlib.image.AxesImage at 0x7f3348495710>"
            ]
          },
          "metadata": {
            "tags": []
          },
          "execution_count": 11
        },
        {
          "output_type": "display_data",
          "data": {
            "image/png": "[encoded data removed]",
            "text/plain": [
              "<Figure size 432x288 with 1 Axes>"
            ]
          },
          "metadata": {
            "tags": [],
            "needs_background": "light"
          }
        }
      ]
    },
    {
      "cell_type": "code",
      "metadata": {
        "id": "XBxxXQWTQPfx",
        "colab_type": "code",
        "colab": {}
      },
      "source": [
        ""
      ],
      "execution_count": 11,
      "outputs": []
    },
    {
      "cell_type": "markdown",
      "metadata": {
        "id": "N1XulWK8NmAS",
        "colab_type": "text"
      },
      "source": [
        "# **Classification on Dataset without PCA**"
      ]
    },
    {
      "cell_type": "markdown",
      "metadata": {
        "id": "rZSvn3o6QoWf",
        "colab_type": "text"
      },
      "source": [
        "## LOGISTIC\n"
      ]
    },
    {
      "cell_type": "code",
      "metadata": {
        "id": "0WyU4nh092uH",
        "colab_type": "code",
        "colab": {}
      },
      "source": [
        "from sklearn.linear_model import LogisticRegression"
      ],
      "execution_count": 12,
      "outputs": []
    },
    {
      "cell_type": "code",
      "metadata": {
        "id": "8twGUvks92gM",
        "colab_type": "code",
        "colab": {
          "base_uri": "https://localhost:8080/",
          "height": 238
        },
        "outputId": "d656e6aa-4980-4746-f2e2-2fa3c89579cc"
      },
      "source": [
        "logi = LogisticRegression(random_state=0)\n",
        "logi.fit(X_train,y_train)"
      ],
      "execution_count": 13,
      "outputs": [
        {
          "output_type": "stream",
          "text": [
            "/usr/local/lib/python3.6/dist-packages/sklearn/linear_model/_logistic.py:940: ConvergenceWarning: lbfgs failed to converge (status=1):\n",
            "STOP: TOTAL NO. of ITERATIONS REACHED LIMIT.\n",
            "\n",
            "Increase the number of iterations (max_iter) or scale the data as shown in:\n",
            "    https://scikit-learn.org/stable/modules/preprocessing.html\n",
            "Please also refer to the documentation for alternative solver options:\n",
            "    https://scikit-learn.org/stable/modules/linear_model.html#logistic-regression\n",
            "  extra_warning_msg=_LOGISTIC_SOLVER_CONVERGENCE_MSG)\n"
          ],
          "name": "stderr"
        },
        {
          "output_type": "execute_result",
          "data": {
            "text/plain": [
              "LogisticRegression(C=1.0, class_weight=None, dual=False, fit_intercept=True,\n",
              "                   intercept_scaling=1, l1_ratio=None, max_iter=100,\n",
              "                   multi_class='auto', n_jobs=None, penalty='l2',\n",
              "                   random_state=0, solver='lbfgs', tol=0.0001, verbose=0,\n",
              "                   warm_start=False)"
            ]
          },
          "metadata": {
            "tags": []
          },
          "execution_count": 13
        }
      ]
    },
    {
      "cell_type": "code",
      "metadata": {
        "id": "KLChhGSD92d3",
        "colab_type": "code",
        "colab": {}
      },
      "source": [
        "y_pred = logi.predict(X_test)"
      ],
      "execution_count": 14,
      "outputs": []
    },
    {
      "cell_type": "code",
      "metadata": {
        "id": "4wbeeeNk92aV",
        "colab_type": "code",
        "colab": {
          "base_uri": "https://localhost:8080/",
          "height": 204
        },
        "outputId": "c02e8ece-9ad6-4ffa-b8dd-5f48fba49350"
      },
      "source": [
        "from sklearn.metrics import confusion_matrix, accuracy_score\n",
        "cm = confusion_matrix(y_test, y_pred)\n",
        "print(cm)\n",
        "accuracy_score(y_test, y_pred)"
      ],
      "execution_count": 15,
      "outputs": [
        {
          "output_type": "stream",
          "text": [
            "[[ 963    0    0    3    1    3    4    4    2    0]\n",
            " [   0 1112    4    2    0    1    3    2   11    0]\n",
            " [   3   10  926   15    6    4   15    8   42    3]\n",
            " [   4    1   21  916    1   26    3    9   22    7]\n",
            " [   1    1    7    3  910    0    9    7   10   34]\n",
            " [  11    2    1   33   11  776   11    6   35    6]\n",
            " [   9    3    7    3    7   16  910    2    1    0]\n",
            " [   1    6   24    5    7    1    0  951    3   30]\n",
            " [   8    7    6   23    6   26   10   10  869    9]\n",
            " [   9    7    0   11   25    6    0   22    7  922]]\n"
          ],
          "name": "stdout"
        },
        {
          "output_type": "execute_result",
          "data": {
            "text/plain": [
              "0.9255"
            ]
          },
          "metadata": {
            "tags": []
          },
          "execution_count": 15
        }
      ]
    },
    {
      "cell_type": "code",
      "metadata": {
        "id": "Iv_GrXNKw8ky",
        "colab_type": "code",
        "colab": {}
      },
      "source": [
        ""
      ],
      "execution_count": 15,
      "outputs": []
    },
    {
      "cell_type": "markdown",
      "metadata": {
        "id": "jiOCT0uNQg90",
        "colab_type": "text"
      },
      "source": [
        "## LDA"
      ]
    },
    {
      "cell_type": "code",
      "metadata": {
        "id": "blk719ke92Kn",
        "colab_type": "code",
        "colab": {}
      },
      "source": [
        "from sklearn.discriminant_analysis import LinearDiscriminantAnalysis\n",
        "lda = LinearDiscriminantAnalysis()"
      ],
      "execution_count": 16,
      "outputs": []
    },
    {
      "cell_type": "code",
      "metadata": {
        "id": "fDaVwKuOLjES",
        "colab_type": "code",
        "colab": {
          "base_uri": "https://localhost:8080/",
          "height": 51
        },
        "outputId": "7a5dc6d7-fe9e-4963-c0f6-760d741bbb06"
      },
      "source": [
        "lda.fit(X_train,y_train)"
      ],
      "execution_count": 17,
      "outputs": [
        {
          "output_type": "execute_result",
          "data": {
            "text/plain": [
              "LinearDiscriminantAnalysis(n_components=None, priors=None, shrinkage=None,\n",
              "                           solver='svd', store_covariance=False, tol=0.0001)"
            ]
          },
          "metadata": {
            "tags": []
          },
          "execution_count": 17
        }
      ]
    },
    {
      "cell_type": "code",
      "metadata": {
        "id": "OuaC7OpqPNEr",
        "colab_type": "code",
        "colab": {}
      },
      "source": [
        "predict1 = lda.predict(X_test)"
      ],
      "execution_count": 18,
      "outputs": []
    },
    {
      "cell_type": "code",
      "metadata": {
        "id": "R2jB5aUwPcOy",
        "colab_type": "code",
        "colab": {
          "base_uri": "https://localhost:8080/",
          "height": 204
        },
        "outputId": "d2a35b34-a55f-44fb-ad93-668892a6ab1f"
      },
      "source": [
        "cm1 = confusion_matrix(y_test,predict1)\n",
        "print(cm)\n",
        "accuracy_score(y_test,predict1)"
      ],
      "execution_count": 19,
      "outputs": [
        {
          "output_type": "stream",
          "text": [
            "[[ 963    0    0    3    1    3    4    4    2    0]\n",
            " [   0 1112    4    2    0    1    3    2   11    0]\n",
            " [   3   10  926   15    6    4   15    8   42    3]\n",
            " [   4    1   21  916    1   26    3    9   22    7]\n",
            " [   1    1    7    3  910    0    9    7   10   34]\n",
            " [  11    2    1   33   11  776   11    6   35    6]\n",
            " [   9    3    7    3    7   16  910    2    1    0]\n",
            " [   1    6   24    5    7    1    0  951    3   30]\n",
            " [   8    7    6   23    6   26   10   10  869    9]\n",
            " [   9    7    0   11   25    6    0   22    7  922]]\n"
          ],
          "name": "stdout"
        },
        {
          "output_type": "execute_result",
          "data": {
            "text/plain": [
              "0.873"
            ]
          },
          "metadata": {
            "tags": []
          },
          "execution_count": 19
        }
      ]
    },
    {
      "cell_type": "code",
      "metadata": {
        "id": "-KAHYqv8Pmsm",
        "colab_type": "code",
        "colab": {}
      },
      "source": [
        ""
      ],
      "execution_count": 19,
      "outputs": []
    },
    {
      "cell_type": "markdown",
      "metadata": {
        "id": "Bcpjw33YQ08C",
        "colab_type": "text"
      },
      "source": [
        "## NEURAL NETWORK"
      ]
    },
    {
      "cell_type": "code",
      "metadata": {
        "id": "7O4x5qnwQGWA",
        "colab_type": "code",
        "colab": {}
      },
      "source": [
        "from keras import layers\n",
        "from keras import models\n",
        "from keras.utils import to_categorical"
      ],
      "execution_count": 20,
      "outputs": []
    },
    {
      "cell_type": "code",
      "metadata": {
        "id": "1GSYEZG0QGYQ",
        "colab_type": "code",
        "colab": {}
      },
      "source": [
        "nn = models.Sequential()"
      ],
      "execution_count": 21,
      "outputs": []
    },
    {
      "cell_type": "code",
      "metadata": {
        "id": "CQ2Hp14sQGmE",
        "colab_type": "code",
        "colab": {}
      },
      "source": [
        "nn.add(layers.Dense(units=128, activation='relu', input_shape=(784,)))\n",
        "nn.add(layers.Dense(units=256, activation='relu'))\n",
        "nn.add(layers.Dense(units = 10, activation = 'softmax'))"
      ],
      "execution_count": 22,
      "outputs": []
    },
    {
      "cell_type": "code",
      "metadata": {
        "id": "tBtA4U8GQGvS",
        "colab_type": "code",
        "colab": {}
      },
      "source": [
        "nn.compile(optimizer = 'rmsprop', loss = 'categorical_crossentropy', metrics = ['accuracy'])"
      ],
      "execution_count": 23,
      "outputs": []
    },
    {
      "cell_type": "code",
      "metadata": {
        "id": "zCnQMe3llpcH",
        "colab_type": "code",
        "colab": {
          "base_uri": "https://localhost:8080/",
          "height": 51
        },
        "outputId": "d7ad753d-492a-4b07-f6b7-4a077b154c8d"
      },
      "source": [
        "Y_train = to_categorical(y_train)\n",
        "print(Y_train.shape)\n",
        "\n",
        "Y_test = to_categorical(y_test)\n",
        "Y_test.shape"
      ],
      "execution_count": 24,
      "outputs": [
        {
          "output_type": "stream",
          "text": [
            "(60000, 10)\n"
          ],
          "name": "stdout"
        },
        {
          "output_type": "execute_result",
          "data": {
            "text/plain": [
              "(10000, 10)"
            ]
          },
          "metadata": {
            "tags": []
          },
          "execution_count": 24
        }
      ]
    },
    {
      "cell_type": "code",
      "metadata": {
        "id": "jkSgbO8BQG2w",
        "colab_type": "code",
        "colab": {
          "base_uri": "https://localhost:8080/",
          "height": 357
        },
        "outputId": "59c9f9af-3b05-4c80-e873-f032fca91cae"
      },
      "source": [
        "nn_fit = nn.fit(X_train, Y_train, batch_size = 500, epochs = 10)"
      ],
      "execution_count": 25,
      "outputs": [
        {
          "output_type": "stream",
          "text": [
            "Epoch 1/10\n",
            "120/120 [==============================] - 1s 12ms/step - loss: 4.3773 - accuracy: 0.8309\n",
            "Epoch 2/10\n",
            "120/120 [==============================] - 1s 12ms/step - loss: 0.6667 - accuracy: 0.9197\n",
            "Epoch 3/10\n",
            "120/120 [==============================] - 1s 12ms/step - loss: 0.3831 - accuracy: 0.9445\n",
            "Epoch 4/10\n",
            "120/120 [==============================] - 1s 12ms/step - loss: 0.2745 - accuracy: 0.9570\n",
            "Epoch 5/10\n",
            "120/120 [==============================] - 1s 12ms/step - loss: 0.2070 - accuracy: 0.9654\n",
            "Epoch 6/10\n",
            "120/120 [==============================] - 1s 12ms/step - loss: 0.1590 - accuracy: 0.9721\n",
            "Epoch 7/10\n",
            "120/120 [==============================] - 1s 12ms/step - loss: 0.1369 - accuracy: 0.9761\n",
            "Epoch 8/10\n",
            "120/120 [==============================] - 1s 12ms/step - loss: 0.1138 - accuracy: 0.9793\n",
            "Epoch 9/10\n",
            "120/120 [==============================] - 1s 12ms/step - loss: 0.0975 - accuracy: 0.9828\n",
            "Epoch 10/10\n",
            "120/120 [==============================] - 1s 12ms/step - loss: 0.0821 - accuracy: 0.9843\n"
          ],
          "name": "stdout"
        }
      ]
    },
    {
      "cell_type": "code",
      "metadata": {
        "id": "q_oLcH3pQHFG",
        "colab_type": "code",
        "colab": {
          "base_uri": "https://localhost:8080/",
          "height": 51
        },
        "outputId": "2a5f3293-eeb1-4a38-cc32-8ea3731ca0eb"
      },
      "source": [
        "nn.evaluate(X_test, Y_test)"
      ],
      "execution_count": 26,
      "outputs": [
        {
          "output_type": "stream",
          "text": [
            "313/313 [==============================] - 0s 1ms/step - loss: 0.3502 - accuracy: 0.9665\n"
          ],
          "name": "stdout"
        },
        {
          "output_type": "execute_result",
          "data": {
            "text/plain": [
              "[0.3501676321029663, 0.9664999842643738]"
            ]
          },
          "metadata": {
            "tags": []
          },
          "execution_count": 26
        }
      ]
    },
    {
      "cell_type": "code",
      "metadata": {
        "id": "0Z32OKa2QHPq",
        "colab_type": "code",
        "colab": {
          "base_uri": "https://localhost:8080/",
          "height": 359
        },
        "outputId": "858766ab-52b9-4d3c-938d-e9a3aed50230"
      },
      "source": [
        "pd.DataFrame(nn.predict(X_test)).head(10)"
      ],
      "execution_count": 27,
      "outputs": [
        {
          "output_type": "execute_result",
          "data": {
            "text/html": [
              "<div>\n",
              "<style scoped>\n",
              "    .dataframe tbody tr th:only-of-type {\n",
              "        vertical-align: middle;\n",
              "    }\n",
              "\n",
              "    .dataframe tbody tr th {\n",
              "        vertical-align: top;\n",
              "    }\n",
              "\n",
              "    .dataframe thead th {\n",
              "        text-align: right;\n",
              "    }\n",
              "</style>\n",
              "<table border=\"1\" class=\"dataframe\">\n",
              "  <thead>\n",
              "    <tr style=\"text-align: right;\">\n",
              "      <th></th>\n",
              "      <th>0</th>\n",
              "      <th>1</th>\n",
              "      <th>2</th>\n",
              "      <th>3</th>\n",
              "      <th>4</th>\n",
              "      <th>5</th>\n",
              "      <th>6</th>\n",
              "      <th>7</th>\n",
              "      <th>8</th>\n",
              "      <th>9</th>\n",
              "    </tr>\n",
              "  </thead>\n",
              "  <tbody>\n",
              "    <tr>\n",
              "      <th>0</th>\n",
              "      <td>1.678709e-29</td>\n",
              "      <td>4.030706e-27</td>\n",
              "      <td>2.205469e-21</td>\n",
              "      <td>1.582704e-20</td>\n",
              "      <td>5.547677e-37</td>\n",
              "      <td>3.246119e-37</td>\n",
              "      <td>1.968469e-33</td>\n",
              "      <td>1.000000e+00</td>\n",
              "      <td>3.293302e-23</td>\n",
              "      <td>1.525118e-26</td>\n",
              "    </tr>\n",
              "    <tr>\n",
              "      <th>1</th>\n",
              "      <td>2.834224e-36</td>\n",
              "      <td>2.557057e-25</td>\n",
              "      <td>1.000000e+00</td>\n",
              "      <td>3.011520e-28</td>\n",
              "      <td>0.000000e+00</td>\n",
              "      <td>0.000000e+00</td>\n",
              "      <td>0.000000e+00</td>\n",
              "      <td>0.000000e+00</td>\n",
              "      <td>4.160523e-29</td>\n",
              "      <td>0.000000e+00</td>\n",
              "    </tr>\n",
              "    <tr>\n",
              "      <th>2</th>\n",
              "      <td>1.368101e-22</td>\n",
              "      <td>1.000000e+00</td>\n",
              "      <td>9.531731e-17</td>\n",
              "      <td>1.226890e-13</td>\n",
              "      <td>2.026357e-19</td>\n",
              "      <td>5.467658e-27</td>\n",
              "      <td>1.542186e-22</td>\n",
              "      <td>1.393852e-19</td>\n",
              "      <td>2.549492e-15</td>\n",
              "      <td>9.055275e-28</td>\n",
              "    </tr>\n",
              "    <tr>\n",
              "      <th>3</th>\n",
              "      <td>1.000000e+00</td>\n",
              "      <td>0.000000e+00</td>\n",
              "      <td>3.637806e-25</td>\n",
              "      <td>2.264507e-36</td>\n",
              "      <td>2.974389e-22</td>\n",
              "      <td>2.164241e-27</td>\n",
              "      <td>5.744281e-20</td>\n",
              "      <td>4.720491e-33</td>\n",
              "      <td>3.798114e-35</td>\n",
              "      <td>4.680147e-26</td>\n",
              "    </tr>\n",
              "    <tr>\n",
              "      <th>4</th>\n",
              "      <td>1.405041e-28</td>\n",
              "      <td>3.732371e-22</td>\n",
              "      <td>2.864605e-28</td>\n",
              "      <td>3.531044e-29</td>\n",
              "      <td>1.000000e+00</td>\n",
              "      <td>2.001718e-27</td>\n",
              "      <td>1.449613e-29</td>\n",
              "      <td>1.508273e-15</td>\n",
              "      <td>1.319425e-20</td>\n",
              "      <td>4.905823e-09</td>\n",
              "    </tr>\n",
              "    <tr>\n",
              "      <th>5</th>\n",
              "      <td>1.951999e-22</td>\n",
              "      <td>1.000000e+00</td>\n",
              "      <td>6.785391e-23</td>\n",
              "      <td>7.144192e-14</td>\n",
              "      <td>1.436209e-16</td>\n",
              "      <td>2.598032e-22</td>\n",
              "      <td>8.907608e-21</td>\n",
              "      <td>1.735468e-15</td>\n",
              "      <td>1.503362e-14</td>\n",
              "      <td>1.745374e-22</td>\n",
              "    </tr>\n",
              "    <tr>\n",
              "      <th>6</th>\n",
              "      <td>0.000000e+00</td>\n",
              "      <td>5.370234e-35</td>\n",
              "      <td>0.000000e+00</td>\n",
              "      <td>0.000000e+00</td>\n",
              "      <td>1.000000e+00</td>\n",
              "      <td>1.161611e-36</td>\n",
              "      <td>0.000000e+00</td>\n",
              "      <td>1.264571e-32</td>\n",
              "      <td>1.637529e-28</td>\n",
              "      <td>3.781449e-18</td>\n",
              "    </tr>\n",
              "    <tr>\n",
              "      <th>7</th>\n",
              "      <td>1.602827e-16</td>\n",
              "      <td>1.547908e-12</td>\n",
              "      <td>1.126951e-09</td>\n",
              "      <td>1.100304e-05</td>\n",
              "      <td>7.841594e-02</td>\n",
              "      <td>3.684472e-06</td>\n",
              "      <td>2.871219e-19</td>\n",
              "      <td>3.225471e-08</td>\n",
              "      <td>1.550327e-03</td>\n",
              "      <td>9.200190e-01</td>\n",
              "    </tr>\n",
              "    <tr>\n",
              "      <th>8</th>\n",
              "      <td>1.638334e-36</td>\n",
              "      <td>0.000000e+00</td>\n",
              "      <td>0.000000e+00</td>\n",
              "      <td>0.000000e+00</td>\n",
              "      <td>5.481341e-33</td>\n",
              "      <td>1.000000e+00</td>\n",
              "      <td>1.209471e-27</td>\n",
              "      <td>0.000000e+00</td>\n",
              "      <td>2.611524e-16</td>\n",
              "      <td>7.753626e-15</td>\n",
              "    </tr>\n",
              "    <tr>\n",
              "      <th>9</th>\n",
              "      <td>6.391660e-26</td>\n",
              "      <td>4.344126e-26</td>\n",
              "      <td>4.301899e-31</td>\n",
              "      <td>4.050500e-18</td>\n",
              "      <td>1.428542e-13</td>\n",
              "      <td>4.568626e-27</td>\n",
              "      <td>3.301887e-27</td>\n",
              "      <td>4.747394e-12</td>\n",
              "      <td>1.073975e-12</td>\n",
              "      <td>1.000000e+00</td>\n",
              "    </tr>\n",
              "  </tbody>\n",
              "</table>\n",
              "</div>"
            ],
            "text/plain": [
              "              0             1  ...             8             9\n",
              "0  1.678709e-29  4.030706e-27  ...  3.293302e-23  1.525118e-26\n",
              "1  2.834224e-36  2.557057e-25  ...  4.160523e-29  0.000000e+00\n",
              "2  1.368101e-22  1.000000e+00  ...  2.549492e-15  9.055275e-28\n",
              "3  1.000000e+00  0.000000e+00  ...  3.798114e-35  4.680147e-26\n",
              "4  1.405041e-28  3.732371e-22  ...  1.319425e-20  4.905823e-09\n",
              "5  1.951999e-22  1.000000e+00  ...  1.503362e-14  1.745374e-22\n",
              "6  0.000000e+00  5.370234e-35  ...  1.637529e-28  3.781449e-18\n",
              "7  1.602827e-16  1.547908e-12  ...  1.550327e-03  9.200190e-01\n",
              "8  1.638334e-36  0.000000e+00  ...  2.611524e-16  7.753626e-15\n",
              "9  6.391660e-26  4.344126e-26  ...  1.073975e-12  1.000000e+00\n",
              "\n",
              "[10 rows x 10 columns]"
            ]
          },
          "metadata": {
            "tags": []
          },
          "execution_count": 27
        }
      ]
    },
    {
      "cell_type": "code",
      "metadata": {
        "id": "HBI9sq4kQHZv",
        "colab_type": "code",
        "colab": {
          "base_uri": "https://localhost:8080/",
          "height": 359
        },
        "outputId": "ce16af2e-fa8d-4a76-9ba4-71698e877f46"
      },
      "source": [
        "pd.DataFrame(Y_test).head(10)"
      ],
      "execution_count": 28,
      "outputs": [
        {
          "output_type": "execute_result",
          "data": {
            "text/html": [
              "<div>\n",
              "<style scoped>\n",
              "    .dataframe tbody tr th:only-of-type {\n",
              "        vertical-align: middle;\n",
              "    }\n",
              "\n",
              "    .dataframe tbody tr th {\n",
              "        vertical-align: top;\n",
              "    }\n",
              "\n",
              "    .dataframe thead th {\n",
              "        text-align: right;\n",
              "    }\n",
              "</style>\n",
              "<table border=\"1\" class=\"dataframe\">\n",
              "  <thead>\n",
              "    <tr style=\"text-align: right;\">\n",
              "      <th></th>\n",
              "      <th>0</th>\n",
              "      <th>1</th>\n",
              "      <th>2</th>\n",
              "      <th>3</th>\n",
              "      <th>4</th>\n",
              "      <th>5</th>\n",
              "      <th>6</th>\n",
              "      <th>7</th>\n",
              "      <th>8</th>\n",
              "      <th>9</th>\n",
              "    </tr>\n",
              "  </thead>\n",
              "  <tbody>\n",
              "    <tr>\n",
              "      <th>0</th>\n",
              "      <td>0.0</td>\n",
              "      <td>0.0</td>\n",
              "      <td>0.0</td>\n",
              "      <td>0.0</td>\n",
              "      <td>0.0</td>\n",
              "      <td>0.0</td>\n",
              "      <td>0.0</td>\n",
              "      <td>1.0</td>\n",
              "      <td>0.0</td>\n",
              "      <td>0.0</td>\n",
              "    </tr>\n",
              "    <tr>\n",
              "      <th>1</th>\n",
              "      <td>0.0</td>\n",
              "      <td>0.0</td>\n",
              "      <td>1.0</td>\n",
              "      <td>0.0</td>\n",
              "      <td>0.0</td>\n",
              "      <td>0.0</td>\n",
              "      <td>0.0</td>\n",
              "      <td>0.0</td>\n",
              "      <td>0.0</td>\n",
              "      <td>0.0</td>\n",
              "    </tr>\n",
              "    <tr>\n",
              "      <th>2</th>\n",
              "      <td>0.0</td>\n",
              "      <td>1.0</td>\n",
              "      <td>0.0</td>\n",
              "      <td>0.0</td>\n",
              "      <td>0.0</td>\n",
              "      <td>0.0</td>\n",
              "      <td>0.0</td>\n",
              "      <td>0.0</td>\n",
              "      <td>0.0</td>\n",
              "      <td>0.0</td>\n",
              "    </tr>\n",
              "    <tr>\n",
              "      <th>3</th>\n",
              "      <td>1.0</td>\n",
              "      <td>0.0</td>\n",
              "      <td>0.0</td>\n",
              "      <td>0.0</td>\n",
              "      <td>0.0</td>\n",
              "      <td>0.0</td>\n",
              "      <td>0.0</td>\n",
              "      <td>0.0</td>\n",
              "      <td>0.0</td>\n",
              "      <td>0.0</td>\n",
              "    </tr>\n",
              "    <tr>\n",
              "      <th>4</th>\n",
              "      <td>0.0</td>\n",
              "      <td>0.0</td>\n",
              "      <td>0.0</td>\n",
              "      <td>0.0</td>\n",
              "      <td>1.0</td>\n",
              "      <td>0.0</td>\n",
              "      <td>0.0</td>\n",
              "      <td>0.0</td>\n",
              "      <td>0.0</td>\n",
              "      <td>0.0</td>\n",
              "    </tr>\n",
              "    <tr>\n",
              "      <th>5</th>\n",
              "      <td>0.0</td>\n",
              "      <td>1.0</td>\n",
              "      <td>0.0</td>\n",
              "      <td>0.0</td>\n",
              "      <td>0.0</td>\n",
              "      <td>0.0</td>\n",
              "      <td>0.0</td>\n",
              "      <td>0.0</td>\n",
              "      <td>0.0</td>\n",
              "      <td>0.0</td>\n",
              "    </tr>\n",
              "    <tr>\n",
              "      <th>6</th>\n",
              "      <td>0.0</td>\n",
              "      <td>0.0</td>\n",
              "      <td>0.0</td>\n",
              "      <td>0.0</td>\n",
              "      <td>1.0</td>\n",
              "      <td>0.0</td>\n",
              "      <td>0.0</td>\n",
              "      <td>0.0</td>\n",
              "      <td>0.0</td>\n",
              "      <td>0.0</td>\n",
              "    </tr>\n",
              "    <tr>\n",
              "      <th>7</th>\n",
              "      <td>0.0</td>\n",
              "      <td>0.0</td>\n",
              "      <td>0.0</td>\n",
              "      <td>0.0</td>\n",
              "      <td>0.0</td>\n",
              "      <td>0.0</td>\n",
              "      <td>0.0</td>\n",
              "      <td>0.0</td>\n",
              "      <td>0.0</td>\n",
              "      <td>1.0</td>\n",
              "    </tr>\n",
              "    <tr>\n",
              "      <th>8</th>\n",
              "      <td>0.0</td>\n",
              "      <td>0.0</td>\n",
              "      <td>0.0</td>\n",
              "      <td>0.0</td>\n",
              "      <td>0.0</td>\n",
              "      <td>1.0</td>\n",
              "      <td>0.0</td>\n",
              "      <td>0.0</td>\n",
              "      <td>0.0</td>\n",
              "      <td>0.0</td>\n",
              "    </tr>\n",
              "    <tr>\n",
              "      <th>9</th>\n",
              "      <td>0.0</td>\n",
              "      <td>0.0</td>\n",
              "      <td>0.0</td>\n",
              "      <td>0.0</td>\n",
              "      <td>0.0</td>\n",
              "      <td>0.0</td>\n",
              "      <td>0.0</td>\n",
              "      <td>0.0</td>\n",
              "      <td>0.0</td>\n",
              "      <td>1.0</td>\n",
              "    </tr>\n",
              "  </tbody>\n",
              "</table>\n",
              "</div>"
            ],
            "text/plain": [
              "     0    1    2    3    4    5    6    7    8    9\n",
              "0  0.0  0.0  0.0  0.0  0.0  0.0  0.0  1.0  0.0  0.0\n",
              "1  0.0  0.0  1.0  0.0  0.0  0.0  0.0  0.0  0.0  0.0\n",
              "2  0.0  1.0  0.0  0.0  0.0  0.0  0.0  0.0  0.0  0.0\n",
              "3  1.0  0.0  0.0  0.0  0.0  0.0  0.0  0.0  0.0  0.0\n",
              "4  0.0  0.0  0.0  0.0  1.0  0.0  0.0  0.0  0.0  0.0\n",
              "5  0.0  1.0  0.0  0.0  0.0  0.0  0.0  0.0  0.0  0.0\n",
              "6  0.0  0.0  0.0  0.0  1.0  0.0  0.0  0.0  0.0  0.0\n",
              "7  0.0  0.0  0.0  0.0  0.0  0.0  0.0  0.0  0.0  1.0\n",
              "8  0.0  0.0  0.0  0.0  0.0  1.0  0.0  0.0  0.0  0.0\n",
              "9  0.0  0.0  0.0  0.0  0.0  0.0  0.0  0.0  0.0  1.0"
            ]
          },
          "metadata": {
            "tags": []
          },
          "execution_count": 28
        }
      ]
    },
    {
      "cell_type": "code",
      "metadata": {
        "id": "4ckAJgiexA8V",
        "colab_type": "code",
        "colab": {}
      },
      "source": [
        ""
      ],
      "execution_count": 28,
      "outputs": []
    },
    {
      "cell_type": "markdown",
      "metadata": {
        "id": "MtHyQMI_19n_",
        "colab_type": "text"
      },
      "source": [
        "# **Classification on Dataset with PCA**\n"
      ]
    },
    {
      "cell_type": "markdown",
      "metadata": {
        "id": "StJyxG8eM1oo",
        "colab_type": "text"
      },
      "source": [
        "## PCA on Dataset"
      ]
    },
    {
      "cell_type": "code",
      "metadata": {
        "id": "NT3_HHvR19OC",
        "colab_type": "code",
        "colab": {
          "base_uri": "https://localhost:8080/",
          "height": 34
        },
        "outputId": "91e460e5-b80a-41ca-bf6f-bd2f2a824f27"
      },
      "source": [
        "print(X_train.shape, y_train.shape)"
      ],
      "execution_count": 29,
      "outputs": [
        {
          "output_type": "stream",
          "text": [
            "(60000, 784) (60000,)\n"
          ],
          "name": "stdout"
        }
      ]
    },
    {
      "cell_type": "code",
      "metadata": {
        "id": "2YsovZtCQHW_",
        "colab_type": "code",
        "colab": {
          "base_uri": "https://localhost:8080/",
          "height": 51
        },
        "outputId": "8a8759f9-3362-4513-85ee-e63e5d6c557c"
      },
      "source": [
        "from sklearn.decomposition import PCA\n",
        "\n",
        "pca1 = PCA(n_components=100)\n",
        "pca1.fit(X_train)"
      ],
      "execution_count": 30,
      "outputs": [
        {
          "output_type": "execute_result",
          "data": {
            "text/plain": [
              "PCA(copy=True, iterated_power='auto', n_components=100, random_state=None,\n",
              "    svd_solver='auto', tol=0.0, whiten=False)"
            ]
          },
          "metadata": {
            "tags": []
          },
          "execution_count": 30
        }
      ]
    },
    {
      "cell_type": "code",
      "metadata": {
        "id": "Vh889Tp6QHME",
        "colab_type": "code",
        "colab": {
          "base_uri": "https://localhost:8080/",
          "height": 282
        },
        "outputId": "7eca5a78-c635-4fc0-90ac-4c8d52e593ca"
      },
      "source": [
        "plt.imshow(pca1.mean_.reshape(28,28))"
      ],
      "execution_count": 31,
      "outputs": [
        {
          "output_type": "execute_result",
          "data": {
            "text/plain": [
              "<matplotlib.image.AxesImage at 0x7f32ff37fc88>"
            ]
          },
          "metadata": {
            "tags": []
          },
          "execution_count": 31
        },
        {
          "output_type": "display_data",
          "data": {
            "image/png": "[encoded data removed]",
            "text/plain": [
              "<Figure size 432x288 with 1 Axes>"
            ]
          },
          "metadata": {
            "tags": [],
            "needs_background": "light"
          }
        }
      ]
    },
    {
      "cell_type": "code",
      "metadata": {
        "id": "AfaJab7PQHKD",
        "colab_type": "code",
        "colab": {
          "base_uri": "https://localhost:8080/",
          "height": 34
        },
        "outputId": "6ae5e786-c4f5-45b6-d282-1a06f2fa4569"
      },
      "source": [
        "pca1.components_.shape"
      ],
      "execution_count": 32,
      "outputs": [
        {
          "output_type": "execute_result",
          "data": {
            "text/plain": [
              "(100, 784)"
            ]
          },
          "metadata": {
            "tags": []
          },
          "execution_count": 32
        }
      ]
    },
    {
      "cell_type": "code",
      "metadata": {
        "id": "QlzJjR6oQHBx",
        "colab_type": "code",
        "colab": {
          "base_uri": "https://localhost:8080/",
          "height": 442
        },
        "outputId": "137a7600-b37c-420f-805e-1465d3c487af"
      },
      "source": [
        "print(pca1.explained_variance_)"
      ],
      "execution_count": 33,
      "outputs": [
        {
          "output_type": "stream",
          "text": [
            "[332724.66744657 243283.9390705  211507.36705827 184776.38586219\n",
            " 166926.83131066 147844.96167532 112178.20271178  98874.42962709\n",
            "  94696.24905304  80809.82453194  72313.62025956  69358.30132663\n",
            "  58826.87114941  58014.08401663  54123.75694848  50843.06852651\n",
            "  45412.606306    43778.45913134  40705.3404521   39519.79037816\n",
            "  36553.53585874  34515.19387472  32693.28605593  31286.58580933\n",
            "  30287.55259254  28776.07832963  27859.28538476  26960.58134095\n",
            "  25533.19355099  23686.12288088  22562.76183737  22221.76624611\n",
            "  20660.67151476  20110.98492565  19543.19986275  18638.29183079\n",
            "  17340.89911223  16726.24204843  16505.81263426  16191.66227458\n",
            "  15659.57813625  15251.21299319  14348.32656022  13652.80460644\n",
            "  13198.84517605  12860.41798926  12411.468408    12054.29807337\n",
            "  11658.86927196  11035.45765826  10937.46282927  10724.37413684\n",
            "  10147.7078138    9906.78032476   9741.32497869   9306.07669132\n",
            "   9240.21990595   8861.50056433   8700.33676754   8391.97440422\n",
            "   8245.08854264   8202.72642985   7898.91556741   7594.38210034\n",
            "   7327.00007576   7102.93113278   6959.27449645   6745.94556901\n",
            "   6610.92625993   6464.46598551   6408.7488623    6205.85356141\n",
            "   6084.94560538   5989.5222001    5676.59074558   5606.45915079\n",
            "   5532.60301453   5297.39320304   5054.42670451   4898.70216643\n",
            "   4863.28998961   4822.07230549   4801.35610465   4622.06590031\n",
            "   4568.90253907   4488.09517568   4426.33300891   4283.72556676\n",
            "   4183.32655811   4132.78676001   3976.87965735   3887.98415522\n",
            "   3828.51366497   3748.64273877   3625.56415347   3537.7821471\n",
            "   3478.63289722   3408.83943068   3322.52431361   3246.33341128]\n"
          ],
          "name": "stdout"
        }
      ]
    },
    {
      "cell_type": "code",
      "metadata": {
        "id": "-uvqVjGeQG_2",
        "colab_type": "code",
        "colab": {
          "base_uri": "https://localhost:8080/",
          "height": 282
        },
        "outputId": "8f1d7463-7330-493c-e12e-76422ce4e022"
      },
      "source": [
        "plt.plot(np.cumsum(pca1.explained_variance_ratio_))\n"
      ],
      "execution_count": 34,
      "outputs": [
        {
          "output_type": "execute_result",
          "data": {
            "text/plain": [
              "[<matplotlib.lines.Line2D at 0x7f32ff34eb70>]"
            ]
          },
          "metadata": {
            "tags": []
          },
          "execution_count": 34
        },
        {
          "output_type": "display_data",
          "data": {
            "image/png": "[encoded data removed]",
            "text/plain": [
              "<Figure size 432x288 with 1 Axes>"
            ]
          },
          "metadata": {
            "tags": [],
            "needs_background": "light"
          }
        }
      ]
    },
    {
      "cell_type": "code",
      "metadata": {
        "id": "IY2XKL1tQG9o",
        "colab_type": "code",
        "colab": {
          "base_uri": "https://localhost:8080/",
          "height": 282
        },
        "outputId": "7d232fd0-b63d-4ed2-d3d1-9386347dcc6c"
      },
      "source": [
        "plt.imshow(pca1.components_[3].reshape(28,28))"
      ],
      "execution_count": 35,
      "outputs": [
        {
          "output_type": "execute_result",
          "data": {
            "text/plain": [
              "<matplotlib.image.AxesImage at 0x7f32ff2afa58>"
            ]
          },
          "metadata": {
            "tags": []
          },
          "execution_count": 35
        },
        {
          "output_type": "display_data",
          "data": {
            "image/png": "[encoded data removed]",
            "text/plain": [
              "<Figure size 432x288 with 1 Axes>"
            ]
          },
          "metadata": {
            "tags": [],
            "needs_background": "light"
          }
        }
      ]
    },
    {
      "cell_type": "code",
      "metadata": {
        "id": "Gg1dzDYqQGzP",
        "colab_type": "code",
        "colab": {
          "base_uri": "https://localhost:8080/",
          "height": 244
        },
        "outputId": "eeaf93bc-db56-4710-9be7-305861f612f1"
      },
      "source": [
        "fig = plt.figure(figsize=(20,6))      ##printing top 10 E.faces\n",
        "for i in range(20):\n",
        "    ax = fig.add_subplot(3, 10, i + 1, xticks=[], yticks=[])\n",
        "    ax.imshow(pca1.components_[i].reshape(28,28))"
      ],
      "execution_count": 36,
      "outputs": [
        {
          "output_type": "display_data",
          "data": {
            "image/png": "[encoded data removed]",
            "text/plain": [
              "<Figure size 1440x432 with 20 Axes>"
            ]
          },
          "metadata": {
            "tags": []
          }
        }
      ]
    },
    {
      "cell_type": "code",
      "metadata": {
        "id": "PWlSMb1IQGrS",
        "colab_type": "code",
        "colab": {
          "base_uri": "https://localhost:8080/",
          "height": 51
        },
        "outputId": "2fcb38f7-8cb5-4492-e461-fa0ce44ba57b"
      },
      "source": [
        "X_train_pca = pca1.fit_transform(X_train)  ##omega  ##X_train for NN\n",
        "\n",
        "X_test_pca = pca1.transform(X_test)   ##X_test for NN\n",
        "\n",
        "print(X_train_pca.shape)\n",
        "print(X_test_pca.shape)"
      ],
      "execution_count": 37,
      "outputs": [
        {
          "output_type": "stream",
          "text": [
            "(60000, 100)\n",
            "(10000, 100)\n"
          ],
          "name": "stdout"
        }
      ]
    },
    {
      "cell_type": "code",
      "metadata": {
        "id": "l6GQTM0LQGjD",
        "colab_type": "code",
        "colab": {
          "base_uri": "https://localhost:8080/",
          "height": 282
        },
        "outputId": "e49430dd-bbcb-4868-da71-389270dd062b"
      },
      "source": [
        "inv_proj3 = pca1.inverse_transform(X_test_pca)\n",
        "plt.imshow(inv_proj3[0].reshape(28,28))"
      ],
      "execution_count": 38,
      "outputs": [
        {
          "output_type": "execute_result",
          "data": {
            "text/plain": [
              "<matplotlib.image.AxesImage at 0x7f32fee9cef0>"
            ]
          },
          "metadata": {
            "tags": []
          },
          "execution_count": 38
        },
        {
          "output_type": "display_data",
          "data": {
            "image/png": "[encoded data removed]",
            "text/plain": [
              "<Figure size 432x288 with 1 Axes>"
            ]
          },
          "metadata": {
            "tags": [],
            "needs_background": "light"
          }
        }
      ]
    },
    {
      "cell_type": "code",
      "metadata": {
        "id": "Iq0fD6AhxExY",
        "colab_type": "code",
        "colab": {}
      },
      "source": [
        ""
      ],
      "execution_count": 38,
      "outputs": []
    },
    {
      "cell_type": "markdown",
      "metadata": {
        "id": "mzQcPWhbopVV",
        "colab_type": "text"
      },
      "source": [
        "## Logi on PCA Dataset"
      ]
    },
    {
      "cell_type": "code",
      "metadata": {
        "id": "uKrl_DleQGgY",
        "colab_type": "code",
        "colab": {
          "base_uri": "https://localhost:8080/",
          "height": 238
        },
        "outputId": "7e14a7fb-a51b-4f4c-ffa7-94dfaa95f158"
      },
      "source": [
        "logi = LogisticRegression(random_state=0)\n",
        "logi.fit(X_train_pca,y_train)"
      ],
      "execution_count": 39,
      "outputs": [
        {
          "output_type": "stream",
          "text": [
            "/usr/local/lib/python3.6/dist-packages/sklearn/linear_model/_logistic.py:940: ConvergenceWarning: lbfgs failed to converge (status=1):\n",
            "STOP: TOTAL NO. of ITERATIONS REACHED LIMIT.\n",
            "\n",
            "Increase the number of iterations (max_iter) or scale the data as shown in:\n",
            "    https://scikit-learn.org/stable/modules/preprocessing.html\n",
            "Please also refer to the documentation for alternative solver options:\n",
            "    https://scikit-learn.org/stable/modules/linear_model.html#logistic-regression\n",
            "  extra_warning_msg=_LOGISTIC_SOLVER_CONVERGENCE_MSG)\n"
          ],
          "name": "stderr"
        },
        {
          "output_type": "execute_result",
          "data": {
            "text/plain": [
              "LogisticRegression(C=1.0, class_weight=None, dual=False, fit_intercept=True,\n",
              "                   intercept_scaling=1, l1_ratio=None, max_iter=100,\n",
              "                   multi_class='auto', n_jobs=None, penalty='l2',\n",
              "                   random_state=0, solver='lbfgs', tol=0.0001, verbose=0,\n",
              "                   warm_start=False)"
            ]
          },
          "metadata": {
            "tags": []
          },
          "execution_count": 39
        }
      ]
    },
    {
      "cell_type": "code",
      "metadata": {
        "id": "9x-I_InLQGeg",
        "colab_type": "code",
        "colab": {}
      },
      "source": [
        "y_pred = logi.predict(X_test_pca)"
      ],
      "execution_count": 40,
      "outputs": []
    },
    {
      "cell_type": "code",
      "metadata": {
        "id": "PJg-kMwxQGTE",
        "colab_type": "code",
        "colab": {
          "base_uri": "https://localhost:8080/",
          "height": 204
        },
        "outputId": "7aa85ba5-331d-445b-ce83-5fe7935d17b5"
      },
      "source": [
        "cm = confusion_matrix(y_test, y_pred)\n",
        "print(cm)\n",
        "\n",
        "accuracy_score(y_test, y_pred)"
      ],
      "execution_count": 41,
      "outputs": [
        {
          "output_type": "stream",
          "text": [
            "[[ 959    0    3    1    1    4    9    2    1    0]\n",
            " [   0 1105    2    3    1    1    4    2   17    0]\n",
            " [  12   11  921   13    8    5   13   11   30    8]\n",
            " [   5    1   19  913    2   27    5   12   15   11]\n",
            " [   2    3    5    1  908    1   12    2    8   40]\n",
            " [   9    4    6   37   10  767   19    5   26    9]\n",
            " [  11    4    6    1    8   10  913    2    3    0]\n",
            " [   3   10   18    6    8    1    0  948    1   33]\n",
            " [   6   15    7   33   13   34   14   15  828    9]\n",
            " [  12    6    1   10   34    5    0   27    5  909]]\n"
          ],
          "name": "stdout"
        },
        {
          "output_type": "execute_result",
          "data": {
            "text/plain": [
              "0.9171"
            ]
          },
          "metadata": {
            "tags": []
          },
          "execution_count": 41
        }
      ]
    },
    {
      "cell_type": "code",
      "metadata": {
        "id": "6tyRmq6UxHsk",
        "colab_type": "code",
        "colab": {}
      },
      "source": [
        ""
      ],
      "execution_count": 41,
      "outputs": []
    },
    {
      "cell_type": "markdown",
      "metadata": {
        "id": "hfh58b1bpmv0",
        "colab_type": "text"
      },
      "source": [
        "## LDA on PCA Dataset"
      ]
    },
    {
      "cell_type": "code",
      "metadata": {
        "id": "9VJ6tlqLpfJV",
        "colab_type": "code",
        "colab": {
          "base_uri": "https://localhost:8080/",
          "height": 51
        },
        "outputId": "259fae1d-cf53-4aa1-fa84-9ccf1a7014bd"
      },
      "source": [
        "lda.fit(X_train_pca, y_train)"
      ],
      "execution_count": 42,
      "outputs": [
        {
          "output_type": "execute_result",
          "data": {
            "text/plain": [
              "LinearDiscriminantAnalysis(n_components=None, priors=None, shrinkage=None,\n",
              "                           solver='svd', store_covariance=False, tol=0.0001)"
            ]
          },
          "metadata": {
            "tags": []
          },
          "execution_count": 42
        }
      ]
    },
    {
      "cell_type": "code",
      "metadata": {
        "id": "Xg1SY4k8p5qc",
        "colab_type": "code",
        "colab": {}
      },
      "source": [
        "y_pred = lda.predict(X_test_pca)"
      ],
      "execution_count": 43,
      "outputs": []
    },
    {
      "cell_type": "code",
      "metadata": {
        "id": "5R8KzLD_qDWr",
        "colab_type": "code",
        "colab": {
          "base_uri": "https://localhost:8080/",
          "height": 204
        },
        "outputId": "6c790d31-0ea8-4e6c-d6b6-9fd4244efdd1"
      },
      "source": [
        "cm1 = confusion_matrix(y_test, y_pred)\n",
        "print(cm1)\n",
        "\n",
        "accuracy_score(y_test, y_pred)"
      ],
      "execution_count": 44,
      "outputs": [
        {
          "output_type": "stream",
          "text": [
            "[[ 928    0    3    3    0   22   12    2    9    1]\n",
            " [   0 1090    3    2    1    3    4    1   31    0]\n",
            " [  13   38  829   25   21    7   16   12   57   14]\n",
            " [   4    8   24  871    3   39    4   20   25   12]\n",
            " [   0   11    3    0  882    4   12    1    7   62]\n",
            " [  11    9    3   50   11  717   16   17   42   16]\n",
            " [  10    8    5    0   18   29  880    0    8    0]\n",
            " [   2   31   18    6   16    3    2  871    4   75]\n",
            " [   6   28    6   31   17   39   13    9  798   27]\n",
            " [   8    8    3   11   44    6    3   15   12  899]]\n"
          ],
          "name": "stdout"
        },
        {
          "output_type": "execute_result",
          "data": {
            "text/plain": [
              "0.8765"
            ]
          },
          "metadata": {
            "tags": []
          },
          "execution_count": 44
        }
      ]
    },
    {
      "cell_type": "code",
      "metadata": {
        "id": "EZ1qe_WvxKQ9",
        "colab_type": "code",
        "colab": {}
      },
      "source": [
        ""
      ],
      "execution_count": 44,
      "outputs": []
    },
    {
      "cell_type": "markdown",
      "metadata": {
        "id": "eZrRqMTLqSxn",
        "colab_type": "text"
      },
      "source": [
        "## Neural Network on PCA Dataset"
      ]
    },
    {
      "cell_type": "code",
      "metadata": {
        "id": "OWtVZt1gqZLX",
        "colab_type": "code",
        "colab": {}
      },
      "source": [
        "nn1 = models.Sequential()"
      ],
      "execution_count": 45,
      "outputs": []
    },
    {
      "cell_type": "code",
      "metadata": {
        "id": "_EOQJpDJqZUs",
        "colab_type": "code",
        "colab": {}
      },
      "source": [
        "nn1.add(layers.Dense(units=128, activation='relu', input_shape = (100,)))\n",
        "nn1.add(layers.Dense(units = 256, activation='relu'))\n",
        "nn1.add(layers.Dense(units = 10, activation='softmax'))"
      ],
      "execution_count": 46,
      "outputs": []
    },
    {
      "cell_type": "code",
      "metadata": {
        "id": "tJF7W_nXqZQj",
        "colab_type": "code",
        "colab": {}
      },
      "source": [
        "nn1.compile(optimizer='rmsprop', loss = 'categorical_crossentropy', metrics=['accuracy'])"
      ],
      "execution_count": 47,
      "outputs": []
    },
    {
      "cell_type": "code",
      "metadata": {
        "id": "62avOdmIqMfK",
        "colab_type": "code",
        "colab": {
          "base_uri": "https://localhost:8080/",
          "height": 374
        },
        "outputId": "708c81ed-bdc9-479f-a303-7b2623a0fce1"
      },
      "source": [
        "nn1.fit(X_train_pca, Y_train, batch_size=500, epochs = 10)"
      ],
      "execution_count": 48,
      "outputs": [
        {
          "output_type": "stream",
          "text": [
            "Epoch 1/10\n",
            "120/120 [==============================] - 1s 7ms/step - loss: 9.2962 - accuracy: 0.8220\n",
            "Epoch 2/10\n",
            "120/120 [==============================] - 1s 6ms/step - loss: 1.7504 - accuracy: 0.9322\n",
            "Epoch 3/10\n",
            "120/120 [==============================] - 1s 6ms/step - loss: 0.8791 - accuracy: 0.9543\n",
            "Epoch 4/10\n",
            "120/120 [==============================] - 1s 6ms/step - loss: 0.5408 - accuracy: 0.9659\n",
            "Epoch 5/10\n",
            "120/120 [==============================] - 1s 6ms/step - loss: 0.3449 - accuracy: 0.9747\n",
            "Epoch 6/10\n",
            "120/120 [==============================] - 1s 6ms/step - loss: 0.2511 - accuracy: 0.9794\n",
            "Epoch 7/10\n",
            "120/120 [==============================] - 1s 6ms/step - loss: 0.2069 - accuracy: 0.9823\n",
            "Epoch 8/10\n",
            "120/120 [==============================] - 1s 6ms/step - loss: 0.1622 - accuracy: 0.9857\n",
            "Epoch 9/10\n",
            "120/120 [==============================] - 1s 6ms/step - loss: 0.1312 - accuracy: 0.9876\n",
            "Epoch 10/10\n",
            "120/120 [==============================] - 1s 6ms/step - loss: 0.1045 - accuracy: 0.9894\n"
          ],
          "name": "stdout"
        },
        {
          "output_type": "execute_result",
          "data": {
            "text/plain": [
              "<tensorflow.python.keras.callbacks.History at 0x7f32fee14d30>"
            ]
          },
          "metadata": {
            "tags": []
          },
          "execution_count": 48
        }
      ]
    },
    {
      "cell_type": "code",
      "metadata": {
        "id": "VEzzOvakrgJ3",
        "colab_type": "code",
        "colab": {
          "base_uri": "https://localhost:8080/",
          "height": 51
        },
        "outputId": "56c984d3-67c1-4838-ecb0-65639ca335fc"
      },
      "source": [
        "nn1.evaluate(X_test_pca, Y_test)"
      ],
      "execution_count": 49,
      "outputs": [
        {
          "output_type": "stream",
          "text": [
            "313/313 [==============================] - 0s 963us/step - loss: 0.7407 - accuracy: 0.9658\n"
          ],
          "name": "stdout"
        },
        {
          "output_type": "execute_result",
          "data": {
            "text/plain": [
              "[0.7406567335128784, 0.9657999873161316]"
            ]
          },
          "metadata": {
            "tags": []
          },
          "execution_count": 49
        }
      ]
    },
    {
      "cell_type": "code",
      "metadata": {
        "id": "5LFIzdRYrsht",
        "colab_type": "code",
        "colab": {
          "base_uri": "https://localhost:8080/",
          "height": 359
        },
        "outputId": "ee7478a8-9fac-42e0-db16-c086415e80d4"
      },
      "source": [
        "pd.DataFrame(nn1.predict(X_test_pca)).head(10)"
      ],
      "execution_count": 50,
      "outputs": [
        {
          "output_type": "execute_result",
          "data": {
            "text/html": [
              "<div>\n",
              "<style scoped>\n",
              "    .dataframe tbody tr th:only-of-type {\n",
              "        vertical-align: middle;\n",
              "    }\n",
              "\n",
              "    .dataframe tbody tr th {\n",
              "        vertical-align: top;\n",
              "    }\n",
              "\n",
              "    .dataframe thead th {\n",
              "        text-align: right;\n",
              "    }\n",
              "</style>\n",
              "<table border=\"1\" class=\"dataframe\">\n",
              "  <thead>\n",
              "    <tr style=\"text-align: right;\">\n",
              "      <th></th>\n",
              "      <th>0</th>\n",
              "      <th>1</th>\n",
              "      <th>2</th>\n",
              "      <th>3</th>\n",
              "      <th>4</th>\n",
              "      <th>5</th>\n",
              "      <th>6</th>\n",
              "      <th>7</th>\n",
              "      <th>8</th>\n",
              "      <th>9</th>\n",
              "    </tr>\n",
              "  </thead>\n",
              "  <tbody>\n",
              "    <tr>\n",
              "      <th>0</th>\n",
              "      <td>0.000000e+00</td>\n",
              "      <td>0.0</td>\n",
              "      <td>0.000000e+00</td>\n",
              "      <td>0.000000e+00</td>\n",
              "      <td>0.000000e+00</td>\n",
              "      <td>0.000000e+00</td>\n",
              "      <td>0.000000e+00</td>\n",
              "      <td>1.000000e+00</td>\n",
              "      <td>0.000000e+00</td>\n",
              "      <td>0.000000e+00</td>\n",
              "    </tr>\n",
              "    <tr>\n",
              "      <th>1</th>\n",
              "      <td>0.000000e+00</td>\n",
              "      <td>0.0</td>\n",
              "      <td>1.000000e+00</td>\n",
              "      <td>0.000000e+00</td>\n",
              "      <td>0.000000e+00</td>\n",
              "      <td>0.000000e+00</td>\n",
              "      <td>0.000000e+00</td>\n",
              "      <td>0.000000e+00</td>\n",
              "      <td>0.000000e+00</td>\n",
              "      <td>0.000000e+00</td>\n",
              "    </tr>\n",
              "    <tr>\n",
              "      <th>2</th>\n",
              "      <td>0.000000e+00</td>\n",
              "      <td>1.0</td>\n",
              "      <td>0.000000e+00</td>\n",
              "      <td>1.351574e-37</td>\n",
              "      <td>0.000000e+00</td>\n",
              "      <td>1.777032e-28</td>\n",
              "      <td>2.817626e-34</td>\n",
              "      <td>6.294109e-32</td>\n",
              "      <td>6.565836e-34</td>\n",
              "      <td>0.000000e+00</td>\n",
              "    </tr>\n",
              "    <tr>\n",
              "      <th>3</th>\n",
              "      <td>1.000000e+00</td>\n",
              "      <td>0.0</td>\n",
              "      <td>2.139077e-26</td>\n",
              "      <td>0.000000e+00</td>\n",
              "      <td>0.000000e+00</td>\n",
              "      <td>0.000000e+00</td>\n",
              "      <td>3.111144e-38</td>\n",
              "      <td>0.000000e+00</td>\n",
              "      <td>0.000000e+00</td>\n",
              "      <td>3.710654e-28</td>\n",
              "    </tr>\n",
              "    <tr>\n",
              "      <th>4</th>\n",
              "      <td>0.000000e+00</td>\n",
              "      <td>0.0</td>\n",
              "      <td>1.221240e-32</td>\n",
              "      <td>0.000000e+00</td>\n",
              "      <td>1.000000e+00</td>\n",
              "      <td>0.000000e+00</td>\n",
              "      <td>0.000000e+00</td>\n",
              "      <td>5.061258e-33</td>\n",
              "      <td>2.155983e-28</td>\n",
              "      <td>1.342360e-24</td>\n",
              "    </tr>\n",
              "    <tr>\n",
              "      <th>5</th>\n",
              "      <td>0.000000e+00</td>\n",
              "      <td>1.0</td>\n",
              "      <td>0.000000e+00</td>\n",
              "      <td>0.000000e+00</td>\n",
              "      <td>0.000000e+00</td>\n",
              "      <td>0.000000e+00</td>\n",
              "      <td>0.000000e+00</td>\n",
              "      <td>1.115374e-34</td>\n",
              "      <td>0.000000e+00</td>\n",
              "      <td>0.000000e+00</td>\n",
              "    </tr>\n",
              "    <tr>\n",
              "      <th>6</th>\n",
              "      <td>0.000000e+00</td>\n",
              "      <td>0.0</td>\n",
              "      <td>0.000000e+00</td>\n",
              "      <td>0.000000e+00</td>\n",
              "      <td>1.000000e+00</td>\n",
              "      <td>1.517952e-38</td>\n",
              "      <td>0.000000e+00</td>\n",
              "      <td>0.000000e+00</td>\n",
              "      <td>6.016133e-31</td>\n",
              "      <td>5.221733e-13</td>\n",
              "    </tr>\n",
              "    <tr>\n",
              "      <th>7</th>\n",
              "      <td>0.000000e+00</td>\n",
              "      <td>0.0</td>\n",
              "      <td>0.000000e+00</td>\n",
              "      <td>1.222368e-32</td>\n",
              "      <td>7.527794e-35</td>\n",
              "      <td>0.000000e+00</td>\n",
              "      <td>0.000000e+00</td>\n",
              "      <td>4.899528e-36</td>\n",
              "      <td>0.000000e+00</td>\n",
              "      <td>1.000000e+00</td>\n",
              "    </tr>\n",
              "    <tr>\n",
              "      <th>8</th>\n",
              "      <td>1.698118e-33</td>\n",
              "      <td>0.0</td>\n",
              "      <td>1.176841e-32</td>\n",
              "      <td>0.000000e+00</td>\n",
              "      <td>1.948241e-16</td>\n",
              "      <td>1.000000e+00</td>\n",
              "      <td>0.000000e+00</td>\n",
              "      <td>0.000000e+00</td>\n",
              "      <td>2.705055e-13</td>\n",
              "      <td>0.000000e+00</td>\n",
              "    </tr>\n",
              "    <tr>\n",
              "      <th>9</th>\n",
              "      <td>0.000000e+00</td>\n",
              "      <td>0.0</td>\n",
              "      <td>0.000000e+00</td>\n",
              "      <td>0.000000e+00</td>\n",
              "      <td>9.234677e-22</td>\n",
              "      <td>0.000000e+00</td>\n",
              "      <td>0.000000e+00</td>\n",
              "      <td>0.000000e+00</td>\n",
              "      <td>0.000000e+00</td>\n",
              "      <td>1.000000e+00</td>\n",
              "    </tr>\n",
              "  </tbody>\n",
              "</table>\n",
              "</div>"
            ],
            "text/plain": [
              "              0    1             2  ...             7             8             9\n",
              "0  0.000000e+00  0.0  0.000000e+00  ...  1.000000e+00  0.000000e+00  0.000000e+00\n",
              "1  0.000000e+00  0.0  1.000000e+00  ...  0.000000e+00  0.000000e+00  0.000000e+00\n",
              "2  0.000000e+00  1.0  0.000000e+00  ...  6.294109e-32  6.565836e-34  0.000000e+00\n",
              "3  1.000000e+00  0.0  2.139077e-26  ...  0.000000e+00  0.000000e+00  3.710654e-28\n",
              "4  0.000000e+00  0.0  1.221240e-32  ...  5.061258e-33  2.155983e-28  1.342360e-24\n",
              "5  0.000000e+00  1.0  0.000000e+00  ...  1.115374e-34  0.000000e+00  0.000000e+00\n",
              "6  0.000000e+00  0.0  0.000000e+00  ...  0.000000e+00  6.016133e-31  5.221733e-13\n",
              "7  0.000000e+00  0.0  0.000000e+00  ...  4.899528e-36  0.000000e+00  1.000000e+00\n",
              "8  1.698118e-33  0.0  1.176841e-32  ...  0.000000e+00  2.705055e-13  0.000000e+00\n",
              "9  0.000000e+00  0.0  0.000000e+00  ...  0.000000e+00  0.000000e+00  1.000000e+00\n",
              "\n",
              "[10 rows x 10 columns]"
            ]
          },
          "metadata": {
            "tags": []
          },
          "execution_count": 50
        }
      ]
    },
    {
      "cell_type": "code",
      "metadata": {
        "id": "2xl8AJEJr_oy",
        "colab_type": "code",
        "colab": {
          "base_uri": "https://localhost:8080/",
          "height": 359
        },
        "outputId": "dfc217b1-66b7-4bb7-ed8a-7627afebf0b1"
      },
      "source": [
        "pd.DataFrame(Y_test).head(10)"
      ],
      "execution_count": 51,
      "outputs": [
        {
          "output_type": "execute_result",
          "data": {
            "text/html": [
              "<div>\n",
              "<style scoped>\n",
              "    .dataframe tbody tr th:only-of-type {\n",
              "        vertical-align: middle;\n",
              "    }\n",
              "\n",
              "    .dataframe tbody tr th {\n",
              "        vertical-align: top;\n",
              "    }\n",
              "\n",
              "    .dataframe thead th {\n",
              "        text-align: right;\n",
              "    }\n",
              "</style>\n",
              "<table border=\"1\" class=\"dataframe\">\n",
              "  <thead>\n",
              "    <tr style=\"text-align: right;\">\n",
              "      <th></th>\n",
              "      <th>0</th>\n",
              "      <th>1</th>\n",
              "      <th>2</th>\n",
              "      <th>3</th>\n",
              "      <th>4</th>\n",
              "      <th>5</th>\n",
              "      <th>6</th>\n",
              "      <th>7</th>\n",
              "      <th>8</th>\n",
              "      <th>9</th>\n",
              "    </tr>\n",
              "  </thead>\n",
              "  <tbody>\n",
              "    <tr>\n",
              "      <th>0</th>\n",
              "      <td>0.0</td>\n",
              "      <td>0.0</td>\n",
              "      <td>0.0</td>\n",
              "      <td>0.0</td>\n",
              "      <td>0.0</td>\n",
              "      <td>0.0</td>\n",
              "      <td>0.0</td>\n",
              "      <td>1.0</td>\n",
              "      <td>0.0</td>\n",
              "      <td>0.0</td>\n",
              "    </tr>\n",
              "    <tr>\n",
              "      <th>1</th>\n",
              "      <td>0.0</td>\n",
              "      <td>0.0</td>\n",
              "      <td>1.0</td>\n",
              "      <td>0.0</td>\n",
              "      <td>0.0</td>\n",
              "      <td>0.0</td>\n",
              "      <td>0.0</td>\n",
              "      <td>0.0</td>\n",
              "      <td>0.0</td>\n",
              "      <td>0.0</td>\n",
              "    </tr>\n",
              "    <tr>\n",
              "      <th>2</th>\n",
              "      <td>0.0</td>\n",
              "      <td>1.0</td>\n",
              "      <td>0.0</td>\n",
              "      <td>0.0</td>\n",
              "      <td>0.0</td>\n",
              "      <td>0.0</td>\n",
              "      <td>0.0</td>\n",
              "      <td>0.0</td>\n",
              "      <td>0.0</td>\n",
              "      <td>0.0</td>\n",
              "    </tr>\n",
              "    <tr>\n",
              "      <th>3</th>\n",
              "      <td>1.0</td>\n",
              "      <td>0.0</td>\n",
              "      <td>0.0</td>\n",
              "      <td>0.0</td>\n",
              "      <td>0.0</td>\n",
              "      <td>0.0</td>\n",
              "      <td>0.0</td>\n",
              "      <td>0.0</td>\n",
              "      <td>0.0</td>\n",
              "      <td>0.0</td>\n",
              "    </tr>\n",
              "    <tr>\n",
              "      <th>4</th>\n",
              "      <td>0.0</td>\n",
              "      <td>0.0</td>\n",
              "      <td>0.0</td>\n",
              "      <td>0.0</td>\n",
              "      <td>1.0</td>\n",
              "      <td>0.0</td>\n",
              "      <td>0.0</td>\n",
              "      <td>0.0</td>\n",
              "      <td>0.0</td>\n",
              "      <td>0.0</td>\n",
              "    </tr>\n",
              "    <tr>\n",
              "      <th>5</th>\n",
              "      <td>0.0</td>\n",
              "      <td>1.0</td>\n",
              "      <td>0.0</td>\n",
              "      <td>0.0</td>\n",
              "      <td>0.0</td>\n",
              "      <td>0.0</td>\n",
              "      <td>0.0</td>\n",
              "      <td>0.0</td>\n",
              "      <td>0.0</td>\n",
              "      <td>0.0</td>\n",
              "    </tr>\n",
              "    <tr>\n",
              "      <th>6</th>\n",
              "      <td>0.0</td>\n",
              "      <td>0.0</td>\n",
              "      <td>0.0</td>\n",
              "      <td>0.0</td>\n",
              "      <td>1.0</td>\n",
              "      <td>0.0</td>\n",
              "      <td>0.0</td>\n",
              "      <td>0.0</td>\n",
              "      <td>0.0</td>\n",
              "      <td>0.0</td>\n",
              "    </tr>\n",
              "    <tr>\n",
              "      <th>7</th>\n",
              "      <td>0.0</td>\n",
              "      <td>0.0</td>\n",
              "      <td>0.0</td>\n",
              "      <td>0.0</td>\n",
              "      <td>0.0</td>\n",
              "      <td>0.0</td>\n",
              "      <td>0.0</td>\n",
              "      <td>0.0</td>\n",
              "      <td>0.0</td>\n",
              "      <td>1.0</td>\n",
              "    </tr>\n",
              "    <tr>\n",
              "      <th>8</th>\n",
              "      <td>0.0</td>\n",
              "      <td>0.0</td>\n",
              "      <td>0.0</td>\n",
              "      <td>0.0</td>\n",
              "      <td>0.0</td>\n",
              "      <td>1.0</td>\n",
              "      <td>0.0</td>\n",
              "      <td>0.0</td>\n",
              "      <td>0.0</td>\n",
              "      <td>0.0</td>\n",
              "    </tr>\n",
              "    <tr>\n",
              "      <th>9</th>\n",
              "      <td>0.0</td>\n",
              "      <td>0.0</td>\n",
              "      <td>0.0</td>\n",
              "      <td>0.0</td>\n",
              "      <td>0.0</td>\n",
              "      <td>0.0</td>\n",
              "      <td>0.0</td>\n",
              "      <td>0.0</td>\n",
              "      <td>0.0</td>\n",
              "      <td>1.0</td>\n",
              "    </tr>\n",
              "  </tbody>\n",
              "</table>\n",
              "</div>"
            ],
            "text/plain": [
              "     0    1    2    3    4    5    6    7    8    9\n",
              "0  0.0  0.0  0.0  0.0  0.0  0.0  0.0  1.0  0.0  0.0\n",
              "1  0.0  0.0  1.0  0.0  0.0  0.0  0.0  0.0  0.0  0.0\n",
              "2  0.0  1.0  0.0  0.0  0.0  0.0  0.0  0.0  0.0  0.0\n",
              "3  1.0  0.0  0.0  0.0  0.0  0.0  0.0  0.0  0.0  0.0\n",
              "4  0.0  0.0  0.0  0.0  1.0  0.0  0.0  0.0  0.0  0.0\n",
              "5  0.0  1.0  0.0  0.0  0.0  0.0  0.0  0.0  0.0  0.0\n",
              "6  0.0  0.0  0.0  0.0  1.0  0.0  0.0  0.0  0.0  0.0\n",
              "7  0.0  0.0  0.0  0.0  0.0  0.0  0.0  0.0  0.0  1.0\n",
              "8  0.0  0.0  0.0  0.0  0.0  1.0  0.0  0.0  0.0  0.0\n",
              "9  0.0  0.0  0.0  0.0  0.0  0.0  0.0  0.0  0.0  1.0"
            ]
          },
          "metadata": {
            "tags": []
          },
          "execution_count": 51
        }
      ]
    },
    {
      "cell_type": "code",
      "metadata": {
        "id": "Kg5jxWvUsQE1",
        "colab_type": "code",
        "colab": {}
      },
      "source": [
        ""
      ],
      "execution_count": 51,
      "outputs": []
    }
  ]
}